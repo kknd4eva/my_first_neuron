{
  "nbformat": 4,
  "nbformat_minor": 0,
  "metadata": {
    "colab": {
      "provenance": [],
      "authorship_tag": "ABX9TyMeElSG0braTk0qXCgkJdJg",
      "include_colab_link": true
    },
    "kernelspec": {
      "name": "python3",
      "display_name": "Python 3"
    },
    "language_info": {
      "name": "python"
    }
  },
  "cells": [
    {
      "cell_type": "markdown",
      "metadata": {
        "id": "view-in-github",
        "colab_type": "text"
      },
      "source": [
        "<a href=\"https://colab.research.google.com/github/kknd4eva/my_first_neuron/blob/main/my_first_neural_net.ipynb\" target=\"_parent\"><img src=\"https://colab.research.google.com/assets/colab-badge.svg\" alt=\"Open In Colab\"/></a>"
      ]
    },
    {
      "cell_type": "markdown",
      "source": [
        "# **A single neuron neural net example**\n",
        "\n",
        "**Data set original source:** https://www.kaggle.com/datasets/cchen002/pass-or-not-students-exam-score-data/data\n",
        "\n",
        "\n",
        "\n",
        "---\n",
        "\n"
      ],
      "metadata": {
        "id": "LiV-fpXE0cFJ"
      }
    },
    {
      "cell_type": "code",
      "source": [
        "!pip install keras-visualizer"
      ],
      "metadata": {
        "colab": {
          "base_uri": "https://localhost:8080/"
        },
        "id": "4_9CmL06Efe5",
        "outputId": "2f370ab6-d716-4aec-c942-5c26d97179a0"
      },
      "execution_count": 10,
      "outputs": [
        {
          "output_type": "stream",
          "name": "stdout",
          "text": [
            "Requirement already satisfied: keras-visualizer in /usr/local/lib/python3.10/dist-packages (3.1.2)\n",
            "Requirement already satisfied: graphviz in /usr/local/lib/python3.10/dist-packages (from keras-visualizer) (0.20.3)\n"
          ]
        }
      ]
    },
    {
      "cell_type": "code",
      "source": [
        "import numpy as np\n",
        "from tensorflow.keras.models import Sequential\n",
        "from tensorflow.keras.layers import Dense\n",
        "from tensorflow.keras.optimizers import Adam\n",
        "\n",
        "# Define the model\n",
        "model = Sequential([\n",
        "    Dense(units=1, input_shape=(2,), activation='sigmoid')\n",
        "])\n",
        "\n",
        "# Compile the model\n",
        "model.compile(optimizer=Adam(learning_rate=0.01), loss='binary_crossentropy', metrics=['accuracy'])\n",
        "\n",
        "# Sample data:\n",
        "# Features are [Sweetness, Firmness]\n",
        "# Sweetness is on a scale from 0 to 1 (0 - not sweet, 1 - very sweet)\n",
        "# Firmness is on a scale from 0 to 1 (0 - not firm, 1 - very firm)\n",
        "# Apples are generally sweet and firm, bananas are sweet but not firm\n",
        "X = np.array([\n",
        "    [0.9, 0.8],  # Sweet and firm - Apple\n",
        "    [0.1, 0.3],  # Not sweet and not firm - Banana\n",
        "    [0.8, 0.5],  # Sweet and less firm - Banana\n",
        "    [0.7, 0.9]   # Sweet and very firm - Apple\n",
        "])\n",
        "\n",
        "# Labels/targets: 1 for Apple, 0 for Banana\n",
        "y = np.array([1, 0, 0, 1])\n",
        "\n",
        "# Train the model\n",
        "model.fit(X, y, epochs=1000, verbose=0)\n",
        "\n",
        "# Evaluate the model to see how well it learned\n",
        "loss, accuracy = model.evaluate(X, y)\n",
        "print(f\"Loss: {loss}, Accuracy: {accuracy}\")\n",
        "\n",
        "# Prediction function to predict if a fruit is an apple or banana based on sweetness and firmness\n",
        "def make_prediction(new_data):\n",
        "    probabilities = model.predict(new_data)\n",
        "    # Convert probabilities to binary predictions: above 0.5 is Apple, below is Banana\n",
        "    predictions = (probabilities > 0.5).astype(int)\n",
        "    return predictions, probabilities\n",
        "\n",
        "# Example usage with new samples\n",
        "# Let's predict the labels for new fruits with their sweetness and firmness\n",
        "new_samples = np.array([\n",
        "    [0.85, 0.9],  # Sweet and firm - likely an Apple\n",
        "    [0.2, 0.2],   # Not sweet and not firm - likely a Banana\n",
        "    [0.95, 0.8],  # Very sweet and firm - likely an Apple\n",
        "    [0.5, 0.4]    # Middle sweetness and not firm - could be a Banana\n",
        "])\n",
        "\n",
        "predictions, confidences = make_prediction(new_samples)\n",
        "\n",
        "for i, new_sample in enumerate(new_samples):\n",
        "    fruit = 'Apple' if predictions[i] == 1 else 'Banana'\n",
        "    print(f\"Sample {new_sample} is predicted as {fruit} with confidence {confidences[i]}\")\n"
      ],
      "metadata": {
        "colab": {
          "base_uri": "https://localhost:8080/"
        },
        "id": "cF1eobsVSSEg",
        "outputId": "9a0786a4-4abd-4fd1-c7d9-a313d37fd667"
      },
      "execution_count": 2,
      "outputs": [
        {
          "output_type": "stream",
          "name": "stdout",
          "text": [
            "1/1 [==============================] - 0s 123ms/step - loss: 0.0827 - accuracy: 1.0000\n",
            "Loss: 0.08271915465593338, Accuracy: 1.0\n",
            "1/1 [==============================] - 0s 51ms/step\n",
            "Sample [0.85 0.9 ] is predicted as Apple with confidence [0.9641793]\n",
            "Sample [0.2 0.2] is predicted as Banana with confidence [0.00145281]\n",
            "Sample [0.95 0.8 ] is predicted as Apple with confidence [0.9064764]\n",
            "Sample [0.5 0.4] is predicted as Banana with confidence [0.02934124]\n"
          ]
        }
      ]
    },
    {
      "cell_type": "code",
      "source": [
        "# let's take a look at our neural net visually\n",
        "from keras_visualizer import visualizer\n",
        "visualizer(model, file_name='graph', file_format=None, view=True, settings=None)\n",
        "\n"
      ],
      "metadata": {
        "id": "zISyQ1-lCGN_"
      },
      "execution_count": 12,
      "outputs": []
    }
  ]
}